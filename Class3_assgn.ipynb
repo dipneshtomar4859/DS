{
 "cells": [
  {
   "cell_type": "code",
   "execution_count": 1,
   "id": "e5babfd2-04a5-4eec-8d2f-9c154e134caa",
   "metadata": {},
   "outputs": [],
   "source": [
    "city=\"Mumbai\""
   ]
  },
  {
   "cell_type": "code",
   "execution_count": 2,
   "id": "0d4be8d8-05be-41fb-ab0b-92665d688962",
   "metadata": {},
   "outputs": [
    {
     "name": "stdout",
     "output_type": "stream",
     "text": [
      "Mumbai\n"
     ]
    }
   ],
   "source": [
    "print(city)"
   ]
  },
  {
   "cell_type": "code",
   "execution_count": 3,
   "id": "ea177ead-7f52-480b-8117-1c03aee6733b",
   "metadata": {},
   "outputs": [
    {
     "data": {
      "text/plain": [
       "str"
      ]
     },
     "execution_count": 3,
     "metadata": {},
     "output_type": "execute_result"
    }
   ],
   "source": [
    "type(city)"
   ]
  },
  {
   "cell_type": "code",
   "execution_count": 4,
   "id": "a6caaaf1-3bd6-456d-bc5a-2fe3e8487d32",
   "metadata": {},
   "outputs": [],
   "source": [
    "a=42"
   ]
  },
  {
   "cell_type": "code",
   "execution_count": 5,
   "id": "a455078f-d108-4065-8226-c43215ae409e",
   "metadata": {},
   "outputs": [
    {
     "data": {
      "text/plain": [
       "int"
      ]
     },
     "execution_count": 5,
     "metadata": {},
     "output_type": "execute_result"
    }
   ],
   "source": [
    "type(a)"
   ]
  },
  {
   "cell_type": "code",
   "execution_count": 6,
   "id": "22b85963-f3f2-4ccd-a4ab-a4104f15df5d",
   "metadata": {},
   "outputs": [],
   "source": [
    "new=\"a\""
   ]
  },
  {
   "cell_type": "code",
   "execution_count": 7,
   "id": "cfd259a1-060a-422b-a643-fe95add53eb3",
   "metadata": {},
   "outputs": [
    {
     "name": "stdout",
     "output_type": "stream",
     "text": [
      "42\n"
     ]
    }
   ],
   "source": [
    "print(a)"
   ]
  },
  {
   "cell_type": "code",
   "execution_count": 8,
   "id": "f4043b18-9162-4fdf-ab6a-23b1b05c32ac",
   "metadata": {},
   "outputs": [
    {
     "data": {
      "text/plain": [
       "str"
      ]
     },
     "execution_count": 8,
     "metadata": {},
     "output_type": "execute_result"
    }
   ],
   "source": [
    "type(new)"
   ]
  },
  {
   "cell_type": "code",
   "execution_count": 9,
   "id": "80c82234-1af4-4c3f-b0ff-66d0b6a650df",
   "metadata": {},
   "outputs": [
    {
     "name": "stdout",
     "output_type": "stream",
     "text": [
      "42\n"
     ]
    }
   ],
   "source": [
    "print(a)"
   ]
  },
  {
   "cell_type": "code",
   "execution_count": 11,
   "id": "bc86db91-cbc4-44d4-b6da-0721bd4aacad",
   "metadata": {},
   "outputs": [
    {
     "data": {
      "text/plain": [
       "1"
      ]
     },
     "execution_count": 11,
     "metadata": {},
     "output_type": "execute_result"
    }
   ],
   "source": [
    "len(new)"
   ]
  },
  {
   "cell_type": "code",
   "execution_count": 12,
   "id": "66b5c2ba-1dd1-457f-aa67-4cdedafe68b8",
   "metadata": {},
   "outputs": [
    {
     "data": {
      "text/plain": [
       "6"
      ]
     },
     "execution_count": 12,
     "metadata": {},
     "output_type": "execute_result"
    }
   ],
   "source": [
    "len(city)"
   ]
  },
  {
   "cell_type": "code",
   "execution_count": 13,
   "id": "91ab35c5-dd04-48a7-856d-31bb53dcc9fd",
   "metadata": {},
   "outputs": [
    {
     "ename": "NameError",
     "evalue": "name 'count' is not defined",
     "output_type": "error",
     "traceback": [
      "\u001b[1;31m---------------------------------------------------------------------------\u001b[0m",
      "\u001b[1;31mNameError\u001b[0m                                 Traceback (most recent call last)",
      "Cell \u001b[1;32mIn[13], line 1\u001b[0m\n\u001b[1;32m----> 1\u001b[0m count(city)\n",
      "\u001b[1;31mNameError\u001b[0m: name 'count' is not defined"
     ]
    }
   ],
   "source": [
    "count(city)"
   ]
  },
  {
   "cell_type": "code",
   "execution_count": 28,
   "id": "025f61b6-5a86-4713-a272-2533a71e19e1",
   "metadata": {},
   "outputs": [],
   "source": [
    "course = [\"Code\", \"square\"]"
   ]
  },
  {
   "cell_type": "code",
   "execution_count": 33,
   "id": "8a934044-b633-4c07-b3c1-f0c943dc80b3",
   "metadata": {},
   "outputs": [
    {
     "name": "stdout",
     "output_type": "stream",
     "text": [
      "yes, 'Code' in course\n"
     ]
    }
   ],
   "source": [
    "if \"Code\" in course:\n",
    "    print(\"yes, 'Code' in course\")\n",
    "else:\n",
    "    print(\"No, 'code' is not in course\")"
   ]
  },
  {
   "cell_type": "code",
   "execution_count": null,
   "id": "b5773717-d9a4-48b2-b256-7f7949319e5f",
   "metadata": {},
   "outputs": [],
   "source": []
  }
 ],
 "metadata": {
  "kernelspec": {
   "display_name": "Python 3 (ipykernel)",
   "language": "python",
   "name": "python3"
  },
  "language_info": {
   "codemirror_mode": {
    "name": "ipython",
    "version": 3
   },
   "file_extension": ".py",
   "mimetype": "text/x-python",
   "name": "python",
   "nbconvert_exporter": "python",
   "pygments_lexer": "ipython3",
   "version": "3.12.4"
  }
 },
 "nbformat": 4,
 "nbformat_minor": 5
}
