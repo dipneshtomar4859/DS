{
 "cells": [
  {
   "cell_type": "code",
   "execution_count": 1,
   "id": "6cd9211d-a3c2-46b1-bffd-710749d5a400",
   "metadata": {},
   "outputs": [],
   "source": [
    "a=5"
   ]
  },
  {
   "cell_type": "code",
   "execution_count": 2,
   "id": "ea38fc95-442f-4c23-a819-945152948d65",
   "metadata": {},
   "outputs": [
    {
     "ename": "SyntaxError",
     "evalue": "Missing parentheses in call to 'print'. Did you mean print(...)? (2947294964.py, line 1)",
     "output_type": "error",
     "traceback": [
      "\u001b[1;36m  Cell \u001b[1;32mIn[2], line 1\u001b[1;36m\u001b[0m\n\u001b[1;33m    print a\u001b[0m\n\u001b[1;37m    ^\u001b[0m\n\u001b[1;31mSyntaxError\u001b[0m\u001b[1;31m:\u001b[0m Missing parentheses in call to 'print'. Did you mean print(...)?\n"
     ]
    }
   ],
   "source": [
    "print a"
   ]
  },
  {
   "cell_type": "code",
   "execution_count": 4,
   "id": "6ccba874-1b7d-4b4f-96d0-afc2ce8c6919",
   "metadata": {},
   "outputs": [
    {
     "name": "stdout",
     "output_type": "stream",
     "text": [
      "5\n"
     ]
    }
   ],
   "source": [
    "print (a)"
   ]
  },
  {
   "cell_type": "code",
   "execution_count": 1,
   "id": "fa477198-c3fb-455c-89cb-6cede71ccc8a",
   "metadata": {},
   "outputs": [
    {
     "ename": "NameError",
     "evalue": "name 'a' is not defined",
     "output_type": "error",
     "traceback": [
      "\u001b[1;31m---------------------------------------------------------------------------\u001b[0m",
      "\u001b[1;31mNameError\u001b[0m                                 Traceback (most recent call last)",
      "Cell \u001b[1;32mIn[1], line 1\u001b[0m\n\u001b[1;32m----> 1\u001b[0m \u001b[38;5;28mprint\u001b[39m (a)\n",
      "\u001b[1;31mNameError\u001b[0m: name 'a' is not defined"
     ]
    }
   ],
   "source": [
    "print (a)"
   ]
  },
  {
   "cell_type": "code",
   "execution_count": 3,
   "id": "ff5f3cdb-9611-41d1-8f30-8bfc3dd091d8",
   "metadata": {},
   "outputs": [],
   "source": [
    "a = \"dipnesh\""
   ]
  },
  {
   "cell_type": "code",
   "execution_count": 4,
   "id": "25ad282e-4165-4e02-8dc2-18b29be13f2b",
   "metadata": {},
   "outputs": [],
   "source": [
    "b = \"tomar\""
   ]
  },
  {
   "cell_type": "code",
   "execution_count": 6,
   "id": "dcdbfb70-b152-4aa9-a186-7cbba42bdd94",
   "metadata": {},
   "outputs": [
    {
     "name": "stdout",
     "output_type": "stream",
     "text": [
      "dipnesh\n"
     ]
    },
    {
     "ename": "TypeError",
     "evalue": "unsupported operand type(s) for +: 'NoneType' and 'str'",
     "output_type": "error",
     "traceback": [
      "\u001b[1;31m---------------------------------------------------------------------------\u001b[0m",
      "\u001b[1;31mTypeError\u001b[0m                                 Traceback (most recent call last)",
      "Cell \u001b[1;32mIn[6], line 1\u001b[0m\n\u001b[1;32m----> 1\u001b[0m \u001b[38;5;28mprint\u001b[39m(a)\u001b[38;5;241m+\u001b[39m(b)\n",
      "\u001b[1;31mTypeError\u001b[0m: unsupported operand type(s) for +: 'NoneType' and 'str'"
     ]
    }
   ],
   "source": [
    "print(a)+(b)"
   ]
  },
  {
   "cell_type": "code",
   "execution_count": 8,
   "id": "9fd357f0-03b4-421d-a0f2-c6a027da268a",
   "metadata": {},
   "outputs": [
    {
     "data": {
      "text/plain": [
       "'dipneshtomar'"
      ]
     },
     "execution_count": 8,
     "metadata": {},
     "output_type": "execute_result"
    }
   ],
   "source": [
    "a + b"
   ]
  },
  {
   "cell_type": "code",
   "execution_count": 9,
   "id": "e62c5564-4551-4ddc-aa0d-08025af050d0",
   "metadata": {},
   "outputs": [],
   "source": [
    "var = 'dipnesh tomar'"
   ]
  },
  {
   "cell_type": "code",
   "execution_count": 10,
   "id": "578ca59f-c2ca-4ea5-81d5-1efb1027175f",
   "metadata": {},
   "outputs": [
    {
     "data": {
      "text/plain": [
       "'dipnesh tomar'"
      ]
     },
     "execution_count": 10,
     "metadata": {},
     "output_type": "execute_result"
    }
   ],
   "source": [
    "var"
   ]
  },
  {
   "cell_type": "code",
   "execution_count": 12,
   "id": "7184d628-a7ef-49a2-b127-184832a8f5c3",
   "metadata": {},
   "outputs": [
    {
     "ename": "NameError",
     "evalue": "name 'index' is not defined",
     "output_type": "error",
     "traceback": [
      "\u001b[1;31m---------------------------------------------------------------------------\u001b[0m",
      "\u001b[1;31mNameError\u001b[0m                                 Traceback (most recent call last)",
      "Cell \u001b[1;32mIn[12], line 1\u001b[0m\n\u001b[1;32m----> 1\u001b[0m index\n",
      "\u001b[1;31mNameError\u001b[0m: name 'index' is not defined"
     ]
    }
   ],
   "source": []
  },
  {
   "cell_type": "code",
   "execution_count": 26,
   "id": "42c3439e-bc5c-452a-b1d2-058e447a078f",
   "metadata": {},
   "outputs": [],
   "source": [
    "name = \"Dipnesh\" \"Tomar\""
   ]
  },
  {
   "cell_type": "code",
   "execution_count": 25,
   "id": "45b49373-7578-4a9c-a0b8-2dc85ca6da27",
   "metadata": {},
   "outputs": [
    {
     "ename": "TypeError",
     "evalue": "'str' object is not callable",
     "output_type": "error",
     "traceback": [
      "\u001b[1;31m---------------------------------------------------------------------------\u001b[0m",
      "\u001b[1;31mTypeError\u001b[0m                                 Traceback (most recent call last)",
      "Cell \u001b[1;32mIn[25], line 1\u001b[0m\n\u001b[1;32m----> 1\u001b[0m \u001b[38;5;28mprint\u001b[39m(name(\u001b[38;5;241m1\u001b[39m))\n",
      "\u001b[1;31mTypeError\u001b[0m: 'str' object is not callable"
     ]
    }
   ],
   "source": [
    "print(name(1))"
   ]
  },
  {
   "cell_type": "code",
   "execution_count": 18,
   "id": "edfa15d7-b107-478a-90f7-53d82d795ba6",
   "metadata": {},
   "outputs": [
    {
     "name": "stdout",
     "output_type": "stream",
     "text": [
      "Dipnesh S Tomar\n"
     ]
    }
   ],
   "source": [
    "print (name)"
   ]
  },
  {
   "cell_type": "code",
   "execution_count": 31,
   "id": "f10e84d6-907b-41da-8fb8-b1e7db1b66b6",
   "metadata": {},
   "outputs": [
    {
     "name": "stdout",
     "output_type": "stream",
     "text": [
      "Dipnesh\n"
     ]
    }
   ],
   "source": [
    "print (name[0:7])"
   ]
  },
  {
   "cell_type": "code",
   "execution_count": 32,
   "id": "cc13b046-29cb-4eea-8447-158ee582e56c",
   "metadata": {},
   "outputs": [],
   "source": [
    "statelist = [\"MH, GJ, KT, CN\"]"
   ]
  },
  {
   "cell_type": "code",
   "execution_count": 33,
   "id": "bafa3870-030e-4889-8773-54ccf8ea275f",
   "metadata": {},
   "outputs": [
    {
     "name": "stdout",
     "output_type": "stream",
     "text": [
      "['MH, GJ, KT, CN']\n"
     ]
    }
   ],
   "source": [
    "print(statelist)"
   ]
  },
  {
   "cell_type": "code",
   "execution_count": 35,
   "id": "a2fd297a-eef1-404b-9eb2-fd9708a9207e",
   "metadata": {},
   "outputs": [
    {
     "name": "stdout",
     "output_type": "stream",
     "text": [
      "MH, GJ, KT, CN\n"
     ]
    }
   ],
   "source": [
    "for i in statelist:\n",
    "    print(i)"
   ]
  },
  {
   "cell_type": "code",
   "execution_count": null,
   "id": "5dd4f41f-24f9-48a3-a6ca-8869a9e57fef",
   "metadata": {},
   "outputs": [],
   "source": []
  }
 ],
 "metadata": {
  "kernelspec": {
   "display_name": "Python 3 (ipykernel)",
   "language": "python",
   "name": "python3"
  },
  "language_info": {
   "codemirror_mode": {
    "name": "ipython",
    "version": 3
   },
   "file_extension": ".py",
   "mimetype": "text/x-python",
   "name": "python",
   "nbconvert_exporter": "python",
   "pygments_lexer": "ipython3",
   "version": "3.12.4"
  }
 },
 "nbformat": 4,
 "nbformat_minor": 5
}
