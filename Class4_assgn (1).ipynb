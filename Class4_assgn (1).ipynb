{
 "cells": [
  {
   "cell_type": "code",
   "execution_count": 1,
   "id": "a2248ffa-1274-4016-99c0-cd29d2a206d7",
   "metadata": {},
   "outputs": [],
   "source": [
    "    a=4"
   ]
  },
  {
   "cell_type": "code",
   "execution_count": 2,
   "id": "b1ce4d0f-c77b-4eb1-860d-d9f56242873b",
   "metadata": {},
   "outputs": [],
   "source": [
    "b=5"
   ]
  },
  {
   "cell_type": "code",
   "execution_count": 3,
   "id": "4ed645ed-5689-4425-969d-c6dd126c8aa9",
   "metadata": {},
   "outputs": [
    {
     "data": {
      "text/plain": [
       "9"
      ]
     },
     "execution_count": 3,
     "metadata": {},
     "output_type": "execute_result"
    }
   ],
   "source": [
    "a+b"
   ]
  },
  {
   "cell_type": "code",
   "execution_count": 4,
   "id": "cd3604e2-92a7-4a54-b497-ed89eeb488c7",
   "metadata": {},
   "outputs": [
    {
     "data": {
      "text/plain": [
       "-1"
      ]
     },
     "execution_count": 4,
     "metadata": {},
     "output_type": "execute_result"
    }
   ],
   "source": [
    "a-b"
   ]
  },
  {
   "cell_type": "code",
   "execution_count": 5,
   "id": "39285a2e-d263-4569-95fd-cd106a047e45",
   "metadata": {},
   "outputs": [
    {
     "data": {
      "text/plain": [
       "20"
      ]
     },
     "execution_count": 5,
     "metadata": {},
     "output_type": "execute_result"
    }
   ],
   "source": [
    "a*b"
   ]
  },
  {
   "cell_type": "code",
   "execution_count": 11,
   "id": "944afbc3-c422-4765-95be-608ba21f135b",
   "metadata": {},
   "outputs": [
    {
     "data": {
      "text/plain": [
       "0"
      ]
     },
     "execution_count": 11,
     "metadata": {},
     "output_type": "execute_result"
    }
   ],
   "source": [
    "a//b"
   ]
  },
  {
   "cell_type": "code",
   "execution_count": 9,
   "id": "7c61eb67-a35d-4124-b849-70123cee3810",
   "metadata": {},
   "outputs": [
    {
     "data": {
      "text/plain": [
       "4"
      ]
     },
     "execution_count": 9,
     "metadata": {},
     "output_type": "execute_result"
    }
   ],
   "source": [
    "a%b"
   ]
  },
  {
   "cell_type": "code",
   "execution_count": 10,
   "id": "3f402a28-b4ac-4b9f-a01e-b174fddf820e",
   "metadata": {},
   "outputs": [
    {
     "data": {
      "text/plain": [
       "1024"
      ]
     },
     "execution_count": 10,
     "metadata": {},
     "output_type": "execute_result"
    }
   ],
   "source": [
    "a**b"
   ]
  },
  {
   "cell_type": "code",
   "execution_count": 12,
   "id": "ac5c886f-d0ea-4be8-85fa-4b7618ca6825",
   "metadata": {},
   "outputs": [
    {
     "data": {
      "text/plain": [
       "True"
      ]
     },
     "execution_count": 12,
     "metadata": {},
     "output_type": "execute_result"
    }
   ],
   "source": [
    "200<300"
   ]
  },
  {
   "cell_type": "code",
   "execution_count": 13,
   "id": "10b00fcd-4bb9-45ef-b00c-d3b6720baff9",
   "metadata": {},
   "outputs": [
    {
     "data": {
      "text/plain": [
       "True"
      ]
     },
     "execution_count": 13,
     "metadata": {},
     "output_type": "execute_result"
    }
   ],
   "source": [
    "300>200"
   ]
  },
  {
   "cell_type": "code",
   "execution_count": 14,
   "id": "ee2ae696-b168-4669-8e42-b3093eadffed",
   "metadata": {},
   "outputs": [
    {
     "data": {
      "text/plain": [
       "True"
      ]
     },
     "execution_count": 14,
     "metadata": {},
     "output_type": "execute_result"
    }
   ],
   "source": [
    "300==300"
   ]
  },
  {
   "cell_type": "code",
   "execution_count": 15,
   "id": "f508d7aa-47e7-457d-808c-98dee982b40a",
   "metadata": {},
   "outputs": [
    {
     "data": {
      "text/plain": [
       "True"
      ]
     },
     "execution_count": 15,
     "metadata": {},
     "output_type": "execute_result"
    }
   ],
   "source": [
    "300!=200"
   ]
  },
  {
   "cell_type": "code",
   "execution_count": 16,
   "id": "2995a996-6970-4718-b29f-0acae8b032ce",
   "metadata": {},
   "outputs": [
    {
     "data": {
      "text/plain": [
       "True"
      ]
     },
     "execution_count": 16,
     "metadata": {},
     "output_type": "execute_result"
    }
   ],
   "source": [
    "\"S\" == \"S\""
   ]
  },
  {
   "cell_type": "code",
   "execution_count": 18,
   "id": "5705366f-1fa6-4ac1-baa0-2c148ffc98b5",
   "metadata": {},
   "outputs": [
    {
     "data": {
      "text/plain": [
       "True"
      ]
     },
     "execution_count": 18,
     "metadata": {},
     "output_type": "execute_result"
    }
   ],
   "source": [
    "\"s\" != \"S\""
   ]
  },
  {
   "cell_type": "code",
   "execution_count": 1,
   "id": "de41d728-ffeb-4807-8d9d-f11996eec6d9",
   "metadata": {},
   "outputs": [],
   "source": [
    "name = ' Python Is Powerfull language\". & Print the results.'"
   ]
  },
  {
   "cell_type": "code",
   "execution_count": 2,
   "id": "5ac52ec2-fd7b-44d4-8122-a05e83d06a76",
   "metadata": {},
   "outputs": [
    {
     "name": "stdout",
     "output_type": "stream",
     "text": [
      " Python Is Powerfull language\". & Print the results.\n"
     ]
    }
   ],
   "source": [
    "print (name)"
   ]
  },
  {
   "cell_type": "code",
   "execution_count": 15,
   "id": "7b5a14fb-d573-422e-9673-9eb628233d67",
   "metadata": {},
   "outputs": [
    {
     "name": "stdout",
     "output_type": "stream",
     "text": [
      "False\n"
     ]
    }
   ],
   "source": [
    "print ('Python' not in name )"
   ]
  },
  {
   "cell_type": "code",
   "execution_count": 14,
   "id": "43e19451-37f4-4448-bc9c-44661d463f92",
   "metadata": {},
   "outputs": [
    {
     "ename": "NameError",
     "evalue": "name 'Print' is not defined",
     "output_type": "error",
     "traceback": [
      "\u001b[1;31m---------------------------------------------------------------------------\u001b[0m",
      "\u001b[1;31mNameError\u001b[0m                                 Traceback (most recent call last)",
      "Cell \u001b[1;32mIn[14], line 1\u001b[0m\n\u001b[1;32m----> 1\u001b[0m Print (\u001b[38;5;124m'\u001b[39m\u001b[38;5;124mpython\u001b[39m\u001b[38;5;124m'\u001b[39m \u001b[38;5;129;01mnot\u001b[39;00m \u001b[38;5;129;01min\u001b[39;00m name )\n",
      "\u001b[1;31mNameError\u001b[0m: name 'Print' is not defined"
     ]
    }
   ],
   "source": [
    "Print ('python' not in name )"
   ]
  },
  {
   "cell_type": "code",
   "execution_count": 16,
   "id": "9b89cbf6-2365-40b2-a1b3-9d47c7d6cffa",
   "metadata": {},
   "outputs": [],
   "source": [
    "mylist = (4, 9, 0)"
   ]
  },
  {
   "cell_type": "code",
   "execution_count": 21,
   "id": "481c4f05-ccce-4d43-8efe-ffc703d8f7f7",
   "metadata": {},
   "outputs": [
    {
     "name": "stdout",
     "output_type": "stream",
     "text": [
      "4\n",
      "9\n",
      "0\n"
     ]
    }
   ],
   "source": [
    "for item in mylist :\n",
    "    print (item)"
   ]
  },
  {
   "cell_type": "code",
   "execution_count": 22,
   "id": "1c201695-73c1-41fd-a999-55a58bbfc061",
   "metadata": {},
   "outputs": [],
   "source": [
    "iterator = iter(mylist)"
   ]
  },
  {
   "cell_type": "code",
   "execution_count": 23,
   "id": "ba423cbd-cc3b-43b0-b562-d5c70dae8a88",
   "metadata": {},
   "outputs": [
    {
     "name": "stdout",
     "output_type": "stream",
     "text": [
      "4\n"
     ]
    }
   ],
   "source": [
    "print (next (iterator))"
   ]
  },
  {
   "cell_type": "code",
   "execution_count": 24,
   "id": "d5bc4f9f-69d0-42f8-bc43-d72249c896f0",
   "metadata": {},
   "outputs": [
    {
     "name": "stdout",
     "output_type": "stream",
     "text": [
      "9\n"
     ]
    }
   ],
   "source": [
    "print (next (iterator))"
   ]
  },
  {
   "cell_type": "code",
   "execution_count": 25,
   "id": "f8141b18-c88c-4720-ae49-c98304838f31",
   "metadata": {},
   "outputs": [
    {
     "name": "stdout",
     "output_type": "stream",
     "text": [
      "0\n"
     ]
    }
   ],
   "source": [
    "print (next (iterator))"
   ]
  },
  {
   "cell_type": "code",
   "execution_count": 26,
   "id": "000d82a2-d7e9-4c21-8540-e522d975c08f",
   "metadata": {},
   "outputs": [
    {
     "ename": "TypeError",
     "evalue": "range expected at least 1 argument, got 0",
     "output_type": "error",
     "traceback": [
      "\u001b[1;31m---------------------------------------------------------------------------\u001b[0m",
      "\u001b[1;31mTypeError\u001b[0m                                 Traceback (most recent call last)",
      "Cell \u001b[1;32mIn[26], line 1\u001b[0m\n\u001b[1;32m----> 1\u001b[0m \u001b[38;5;28mrange\u001b[39m ()\n",
      "\u001b[1;31mTypeError\u001b[0m: range expected at least 1 argument, got 0"
     ]
    }
   ],
   "source": [
    "range ()"
   ]
  },
  {
   "cell_type": "code",
   "execution_count": 28,
   "id": "0dbc24d1-3a0c-47f6-850c-8c4aea2786a7",
   "metadata": {},
   "outputs": [
    {
     "name": "stdout",
     "output_type": "stream",
     "text": [
      "range(1, 10)\n"
     ]
    }
   ],
   "source": [
    "print (range (1,10))"
   ]
  },
  {
   "cell_type": "code",
   "execution_count": 32,
   "id": "27d8d741-e2c5-4e94-acaf-50f471062af2",
   "metadata": {},
   "outputs": [
    {
     "name": "stdout",
     "output_type": "stream",
     "text": [
      "1\n",
      "2\n",
      "3\n",
      "4\n"
     ]
    }
   ],
   "source": [
    "for a in range (1,5) :\n",
    "    print (a)"
   ]
  },
  {
   "cell_type": "code",
   "execution_count": 37,
   "id": "0e250a5b-cdf5-4999-974b-3579f8f42281",
   "metadata": {},
   "outputs": [],
   "source": [
    "b= \"Hello Mumbai !\""
   ]
  },
  {
   "cell_type": "code",
   "execution_count": 39,
   "id": "f65504ed-3c83-40fe-b431-40ec8a1d3bf4",
   "metadata": {},
   "outputs": [
    {
     "name": "stdout",
     "output_type": "stream",
     "text": [
      "ll\n"
     ]
    }
   ],
   "source": [
    "print (b[2:4])"
   ]
  },
  {
   "cell_type": "code",
   "execution_count": 40,
   "id": "21f72971-d67e-4faf-bacc-084fd7de7d41",
   "metadata": {},
   "outputs": [
    {
     "name": "stdout",
     "output_type": "stream",
     "text": [
      "ell\n"
     ]
    }
   ],
   "source": [
    "print (b[1:4])"
   ]
  },
  {
   "cell_type": "code",
   "execution_count": 41,
   "id": "2098bd71-89c1-4eb0-a7e6-757099449f00",
   "metadata": {},
   "outputs": [
    {
     "name": "stdout",
     "output_type": "stream",
     "text": [
      "H\n"
     ]
    }
   ],
   "source": [
    "print (b[:1])"
   ]
  },
  {
   "cell_type": "code",
   "execution_count": 43,
   "id": "1c7bfde8-b921-4c17-be07-1ccd937eba26",
   "metadata": {
    "scrolled": true
   },
   "outputs": [
    {
     "name": "stdout",
     "output_type": "stream",
     "text": [
      "umbai !\n"
     ]
    }
   ],
   "source": [
    "print (b[7:])"
   ]
  },
  {
   "cell_type": "code",
   "execution_count": 46,
   "id": "5698cc02-a116-44bd-a3af-c54856e7d6b2",
   "metadata": {},
   "outputs": [],
   "source": [
    "b= \"Hello Mumbai !\""
   ]
  },
  {
   "cell_type": "code",
   "execution_count": 56,
   "id": "9887d174-401a-467b-ac98-eb3d0d6c1f7c",
   "metadata": {},
   "outputs": [
    {
     "name": "stdout",
     "output_type": "stream",
     "text": [
      "ba\n"
     ]
    }
   ],
   "source": [
    "print (b[-5:-3])"
   ]
  },
  {
   "cell_type": "code",
   "execution_count": 55,
   "id": "4dc741cb-1290-42ed-80b6-421e1c0cb78e",
   "metadata": {},
   "outputs": [
    {
     "name": "stdout",
     "output_type": "stream",
     "text": [
      "!\n"
     ]
    }
   ],
   "source": [
    "print (b[-1])"
   ]
  },
  {
   "cell_type": "code",
   "execution_count": 63,
   "id": "14cb36fd-c1a3-445e-a9d5-94bf8d18e22f",
   "metadata": {},
   "outputs": [],
   "source": [
    "a = \" Hello Everyone !\""
   ]
  },
  {
   "cell_type": "code",
   "execution_count": 64,
   "id": "c9c2359e-9c60-4a2b-98b3-91b144a8d906",
   "metadata": {},
   "outputs": [
    {
     "name": "stdout",
     "output_type": "stream",
     "text": [
      " HELLO EVERYONE !\n"
     ]
    }
   ],
   "source": [
    "print (a.upper())"
   ]
  },
  {
   "cell_type": "code",
   "execution_count": 60,
   "id": "50dc5072-7898-435a-bb60-6b3361f74ba2",
   "metadata": {},
   "outputs": [
    {
     "name": "stdout",
     "output_type": "stream",
     "text": [
      "hello everyone\n"
     ]
    }
   ],
   "source": [
    "print (a.lower())"
   ]
  },
  {
   "cell_type": "code",
   "execution_count": 65,
   "id": "927a737e-dbe9-46fa-84bd-615a28bd3130",
   "metadata": {},
   "outputs": [
    {
     "name": "stdout",
     "output_type": "stream",
     "text": [
      "Hello Everyone !\n"
     ]
    }
   ],
   "source": [
    "print(a.strip())"
   ]
  },
  {
   "cell_type": "code",
   "execution_count": 66,
   "id": "d58988aa-0642-4cf0-9efc-68ebf6d0c40e",
   "metadata": {},
   "outputs": [
    {
     "name": "stdout",
     "output_type": "stream",
     "text": [
      " Jello Everyone !\n"
     ]
    }
   ],
   "source": [
    "print (a.replace (\"H\" , \"J\"))"
   ]
  },
  {
   "cell_type": "code",
   "execution_count": 67,
   "id": "5d17175e-f796-44f2-919c-a75a275a0dd6",
   "metadata": {},
   "outputs": [],
   "source": [
    "a = \" Hello, Everyone !\""
   ]
  },
  {
   "cell_type": "code",
   "execution_count": 68,
   "id": "e822d55a-845c-4220-b3f8-66b5d01538fa",
   "metadata": {},
   "outputs": [
    {
     "name": "stdout",
     "output_type": "stream",
     "text": [
      "[' Hello', ' Everyone !']\n"
     ]
    }
   ],
   "source": [
    "print (a.split(\",\"))"
   ]
  },
  {
   "cell_type": "code",
   "execution_count": 75,
   "id": "bf1dfc35-7991-488c-9707-9babd043c02a",
   "metadata": {},
   "outputs": [],
   "source": [
    "list_in_list =[\"I\", \"am\", [20,'old'], \"Young\"]"
   ]
  },
  {
   "cell_type": "raw",
   "id": "77c5b4f5-57ba-4b81-b356-acf7cb2ec402",
   "metadata": {},
   "source": [
    "print (list_in_list[-2])"
   ]
  },
  {
   "cell_type": "code",
   "execution_count": null,
   "id": "fb8a267f-e9c8-422d-9d68-f0a1146c6e0b",
   "metadata": {},
   "outputs": [],
   "source": []
  },
  {
   "cell_type": "code",
   "execution_count": null,
   "id": "0b23514f-3fa1-42bb-8689-e4cbfbbebac2",
   "metadata": {},
   "outputs": [],
   "source": []
  },
  {
   "cell_type": "code",
   "execution_count": null,
   "id": "299381f0-0eb2-4bdf-99fb-4b12afa1c611",
   "metadata": {},
   "outputs": [],
   "source": []
  },
  {
   "cell_type": "code",
   "execution_count": null,
   "id": "b6b013e4-5380-4d98-a74b-a260294c33c0",
   "metadata": {},
   "outputs": [],
   "source": []
  },
  {
   "cell_type": "code",
   "execution_count": null,
   "id": "3b2c2b0e-5e55-42b5-bc8d-11ef8e733f91",
   "metadata": {},
   "outputs": [],
   "source": []
  },
  {
   "cell_type": "code",
   "execution_count": null,
   "id": "7f74be49-4843-4cbe-8113-d69f81cb3414",
   "metadata": {},
   "outputs": [],
   "source": []
  }
 ],
 "metadata": {
  "kernelspec": {
   "display_name": "Python 3 (ipykernel)",
   "language": "python",
   "name": "python3"
  },
  "language_info": {
   "codemirror_mode": {
    "name": "ipython",
    "version": 3
   },
   "file_extension": ".py",
   "mimetype": "text/x-python",
   "name": "python",
   "nbconvert_exporter": "python",
   "pygments_lexer": "ipython3",
   "version": "3.12.4"
  }
 },
 "nbformat": 4,
 "nbformat_minor": 5
}
